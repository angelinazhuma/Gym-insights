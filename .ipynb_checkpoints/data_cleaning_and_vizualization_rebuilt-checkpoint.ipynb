{
 "cells": [
  {
   "cell_type": "markdown",
   "id": "918eecdb",
   "metadata": {},
   "source": [
    "# Data Cleaning and Visualization\n",
    "\n",
    "This notebook focuses on preparing the 'Gym Members Exercise Tracking' dataset for analysis and predictive modeling. The primary tasks include:\n",
    "\n",
    "1. Loading and inspecting the data.\n",
    "2. Cleaning and standardizing columns.\n",
    "3. Handling missing values.\n",
    "4. Performing exploratory visualizations to understand feature distributions and relationships.\n",
    "\n",
    "The final cleaned dataset will be used to build machine learning models in a separate notebook."
   ]
  },
  {
   "cell_type": "markdown",
   "id": "df436ba1",
   "metadata": {},
   "source": [
    "# Data Cleaning and Vizualization"
   ]
  },
  {
   "cell_type": "markdown",
   "id": "08d87e7b",
   "metadata": {},
   "source": [
    "### Data cleaning:"
   ]
  },
  {
   "cell_type": "markdown",
   "id": "af8e6132",
   "metadata": {},
   "source": [
    "## 1. Load the Data"
   ]
  },
  {
   "cell_type": "code",
   "execution_count": null,
   "id": "fdf625b1",
   "metadata": {},
   "outputs": [],
   "source": [
    "import pandas as pd\n",
    "import numpy as np\n",
    "import matplotlib.pyplot as plt\n",
    "import seaborn as sns\n",
    "import plotly.graph_objects as go\n",
    "import plotly.express as px\n",
    "from sklearn.model_selection import train_test_split, GridSearchCV\n",
    "from sklearn.ensemble import RandomForestClassifier, GradientBoostingRegressor\n",
    "from sklearn.metrics import classification_report, mean_squared_error, accuracy_score\n",
    "import warnings\n",
    "warnings.filterwarnings('ignore')"
   ]
  },
  {
   "cell_type": "markdown",
   "id": "8be28279",
   "metadata": {},
   "source": [
    "## 2. Loading and Inspecting the Dataset"
   ]
  },
  {
   "cell_type": "code",
   "execution_count": null,
   "id": "940295ad",
   "metadata": {},
   "outputs": [],
   "source": [
    "df = pd.read_csv(\"gym_members_exercise_tracking.csv\")\n",
    "\n",
    "print(\"Dataset Overview:\")\n",
    "print(df.head())\n",
    "print(\"\\nColumn Information:\")\n",
    "print(df.info())\n",
    "print(\"\\nMissing Values:\")\n",
    "print(df.isnull().sum())"
   ]
  },
  {
   "cell_type": "markdown",
   "id": "23517e2c",
   "metadata": {},
   "source": [
    "## 3. Handle Missing Values"
   ]
  },
  {
   "cell_type": "code",
   "execution_count": null,
   "id": "69fe509d",
   "metadata": {},
   "outputs": [],
   "source": [
    "# Identify missing values\n",
    "missing_counts = df.isnull().sum()\n",
    "print(\"Missing values per column:\\n\", missing_counts)"
   ]
  },
  {
   "cell_type": "markdown",
   "id": "f83e6731",
   "metadata": {},
   "source": [
    "## 4. Rename columns for easier use"
   ]
  },
  {
   "cell_type": "code",
   "execution_count": null,
   "id": "292d9c75",
   "metadata": {},
   "outputs": [],
   "source": [
    "df.rename(columns={\"Water_Intake (liters)\": \"Water Intake\"}, inplace=True)\n",
    "df.rename(columns={\"Weigth (kg)\": \"Weigth\"}, inplace=True)\n",
    "df.rename(columns={\"Height (m)\": \"Height\"}, inplace=True)\n",
    "df.rename(columns={\"Calories_Burned\": \"Calories Burned\"}, inplace=True)\n",
    "df.rename(columns={\"Fat_Percentage\": \"Fat Percentage\"}, inplace=True)\n",
    "df.rename(columns={\"Workout_Type\": \"Workout Type\"}, inplace=True)\n",
    "df.rename(columns={\"Experience_Level\": \"Experience Level\"}, inplace=True)"
   ]
  },
  {
   "cell_type": "markdown",
   "id": "6497a644",
   "metadata": {},
   "source": [
    "## 5. Handling Missing Values"
   ]
  },
  {
   "cell_type": "code",
   "execution_count": null,
   "id": "de1b947c",
   "metadata": {},
   "outputs": [],
   "source": [
    "#Impute missing numerical data with mean (or median)\n",
    "numerical_cols = ['Fat Percentage', 'Water Intake']  # Example columns with missing values\n",
    "for col in numerical_cols:\n",
    "    df[col].fillna(df[col].mean(), inplace=True)"
   ]
  },
  {
   "cell_type": "code",
   "execution_count": null,
   "id": "2e5462bb",
   "metadata": {},
   "outputs": [],
   "source": [
    "# Impute missing categorical data with mode\n",
    "categorical_cols = ['Workout Type']  # Example categorical column\n",
    "for col in categorical_cols:\n",
    "    df[col].fillna(df[col].mode()[0], inplace=True)"
   ]
  },
  {
   "cell_type": "markdown",
   "id": "cc4fb0dc",
   "metadata": {},
   "source": [
    "## 6. Standardize and Validate Data"
   ]
  },
  {
   "cell_type": "code",
   "execution_count": null,
   "id": "8a9e7277",
   "metadata": {},
   "outputs": [],
   "source": [
    "# Recalculate BMI if available\n",
    "if 'Weight' in df.columns and 'Height' in df.columns:\n",
    "    df['BMI_Calculated'] = df['Weight'] / (df['Height'] / 100) ** 2"
   ]
  },
  {
   "cell_type": "code",
   "execution_count": null,
   "id": "f00d1cd4",
   "metadata": {},
   "outputs": [],
   "source": [
    "# Check for unrealistic values and correct them\n",
    "df['Age'] = df['Age'].clip(lower=18, upper=65)  # Age should be between 18 and 65\n",
    "df['Calories Burned'] = df['Calories Burned'].clip(lower=0)  # Calories burned should be non-negative"
   ]
  },
  {
   "cell_type": "markdown",
   "id": "9b30c4e8",
   "metadata": {},
   "source": [
    "## 7. Handle Outliers"
   ]
  },
  {
   "cell_type": "code",
   "execution_count": null,
   "id": "7f316949",
   "metadata": {},
   "outputs": [],
   "source": [
    "from scipy.stats import zscore\n",
    "z_scores = np.abs(zscore(df.select_dtypes(include=np.number)))\n",
    "threshold = 3  # Define a threshold for z-score\n",
    "outlier_indices = np.where(z_scores > threshold)\n",
    "print(\"Outlier indices:\\n\", outlier_indices)\n",
    "\n",
    "# Optional: Remove outliers (if necessary)\n",
    "df_cleaned = df[(z_scores < threshold).all(axis=1)]\n",
    "# Save the cleaned data\n",
    "output_path = \"gym_members_exercise_cleaned.csv\"\n",
    "df_cleaned.to_csv(output_path, index=False)\n",
    "print(f\"Cleaned dataset saved to {output_path}\")"
   ]
  },
  {
   "cell_type": "code",
   "execution_count": null,
   "id": "92cbc5b2",
   "metadata": {},
   "outputs": [],
   "source": [
    "df1 = pd.read_csv(\"gym_members_exercise_cleaned.csv\")"
   ]
  },
  {
   "cell_type": "code",
   "execution_count": null,
   "id": "e12c7b13",
   "metadata": {},
   "outputs": [],
   "source": [
    "# Dataset Dimensions Overview\n",
    "num_records = len(df1)\n",
    "num_columns = len(df1.columns)\n",
    "print(num_columns, num_records)"
   ]
  },
  {
   "cell_type": "markdown",
   "id": "87dae62b",
   "metadata": {},
   "source": [
    "## Dataset Summary and Insights:"
   ]
  },
  {
   "cell_type": "code",
   "execution_count": null,
   "id": "58864948",
   "metadata": {},
   "outputs": [],
   "source": [
    "def summary(df1):\n",
    "    summ = pd.DataFrame(df1.dtypes, columns=['data type'])\n",
    "    summ['#missing'] = df1.isnull().sum().values\n",
    "    summ['Duplicate'] = df1.duplicated().sum()\n",
    "    summ['#unique'] = df1.nunique().values\n",
    "    desc = pd.DataFrame(df.describe(include='all').transpose())\n",
    "    summ['min'] = desc['min'].values\n",
    "    summ['max'] = desc['max'].values\n",
    "    summ['avg'] = desc['mean'].values\n",
    "    summ['std dev'] = desc['std'].values\n",
    "    summ['top value'] = desc['top'].values\n",
    "    summ['Freq'] = desc['freq'].values\n",
    "\n",
    "    return summ\n",
    "\n",
    "summary(df).style.background_gradient()"
   ]
  },
  {
   "cell_type": "code",
   "execution_count": null,
   "id": "38bd9535",
   "metadata": {},
   "outputs": [],
   "source": [
    "# Inspect Data\n",
    "print(df1.head())\n",
    "print(df1.info())\n",
    "df1.nunique()"
   ]
  },
  {
   "cell_type": "markdown",
   "id": "1baddea7",
   "metadata": {},
   "source": [
    "## Data Vizualization:"
   ]
  },
  {
   "cell_type": "markdown",
   "id": "c3bfa744",
   "metadata": {},
   "source": [
    "### Data vizualtization for distribution analysis"
   ]
  },
  {
   "cell_type": "code",
   "execution_count": null,
   "id": "0b33264a",
   "metadata": {},
   "outputs": [],
   "source": [
    "# Distribution of Gender\n",
    "plt.figure(figsize=(6, 4))\n",
    "sns.countplot(data=df1, x=\"Gender\", hue=\"Gender\", palette=\"Set2\", legend=False)\n",
    "plt.title(\"Distribution of Gender\")\n",
    "plt.xlabel(\"Gender\")\n",
    "plt.ylabel(\"Count\")\n",
    "plt.show()\n",
    "palette = \"Set2\" \n",
    "\n",
    "# Distribution of Workout Type\n",
    "plt.figure(figsize=(8, 4))\n",
    "sns.countplot(data=df1, x=\"Workout Type\", hue=\"Workout Type\", palette=palette)\n",
    "plt.title(\"Distribution of Workout Type\")\n",
    "plt.xlabel(\"Workout Type\")\n",
    "plt.ylabel(\"Count\")\n",
    "plt.xticks(rotation=45)\n",
    "plt.show()\n",
    "\n",
    "# Distribution of Experience Level\n",
    "plt.figure(figsize=(6, 4))\n",
    "sns.countplot(data=df1, x=\"Experience Level\", hue=\"Experience Level\", palette=palette)\n",
    "plt.title(\"Distribution of Experience Level\")\n",
    "plt.xlabel(\"Experience Level\")\n",
    "plt.ylabel(\"Count\")\n",
    "plt.show()\n",
    "\n",
    "\n",
    "# Histogram: Distribution of BMI\n",
    "plt.figure(figsize=(10, 6))\n",
    "sns.histplot(df1[\"BMI\"], kde=False, bins=20, edgecolor=\"black\", alpha=0.7)  # Using the first color from the palette\n",
    "plt.title(\"Distribution of BMI\")\n",
    "plt.xlabel(\"BMI\")\n",
    "plt.ylabel(\"Frequency\")\n",
    "plt.grid(axis=\"y\")\n",
    "plt.show()\n",
    "\n",
    "# Histogram for Workout Frequency Distribution\n",
    "plt.figure(figsize=(10, 6))\n",
    "sns.histplot(df1['Workout_Frequency (days/week)'], kde=True, color='blue', bins=7)\n",
    "plt.title(\"Distribution of Workout Frequency\")\n",
    "plt.xlabel(\"Workout Frequency (Days/Week)\")\n",
    "plt.ylabel(\"Frequency\")\n",
    "plt.show()\n",
    "\n",
    "# Plotting Distribution of Session Duration\n",
    "plt.figure(figsize=(10, 6))\n",
    "sns.histplot(df['Session_Duration (hours)'], bins=20, kde=True, color='skyblue', edgecolor='black')\n",
    "plt.title(\"Session Duration Distribution\")\n",
    "plt.xlabel(\"Session Duration (hours)\")\n",
    "plt.ylabel(\"Frequency\")\n",
    "plt.grid(axis='y')\n",
    "plt.show()\n",
    "\n",
    "# Histogram - Distribution of Calories Burned\n",
    "plt.figure(figsize=(10, 6))\n",
    "plt.hist(df1[\"Calories Burned\"], bins=20, edgecolor=\"black\", alpha=0.7, color='red')\n",
    "plt.title(\"Distribution of Calories Burned\")\n",
    "plt.xlabel(\"Calories Burned\")\n",
    "plt.ylabel(\"Frequency\")\n",
    "plt.show()\n",
    "\n",
    "# Weight Distribution (Histogram + KDE)\n",
    "plt.figure(figsize=(10, 6))\n",
    "sns.histplot(df1['Weight (kg)'], bins=15, kde=True, color='skyblue', edgecolor='black')\n",
    "plt.title(\"Weight Distribution (kg)\")\n",
    "plt.xlabel(\"Weight (kg)\")\n",
    "plt.ylabel(\"Frequency\")\n",
    "plt.show()"
   ]
  },
  {
   "cell_type": "code",
   "execution_count": null,
   "id": "d7d3cf6d",
   "metadata": {},
   "outputs": [],
   "source": [
    "age_counts = df1['Gender'].value_counts()\n",
    "plt.figure(figsize=(6, 6))\n",
    "plt.pie(age_counts, labels=age_counts.index, autopct='%1.1f%%', startangle=140)\n",
    "plt.title('Age Distribution by Gender')\n",
    "plt.show()\n",
    "# Distribution of Age\n",
    "plt.figure(figsize=(8, 6))\n",
    "sns.histplot(df1['Age'], kde=True, color='purple', bins=20)\n",
    "plt.title(\"Distribution of Age\")\n",
    "plt.xlabel(\"Age\")\n",
    "plt.ylabel(\"Frequency\")\n",
    "plt.show"
   ]
  },
  {
   "cell_type": "markdown",
   "id": "a8ac81de",
   "metadata": {},
   "source": [
    "### Experience Level Distribution by Workout Type"
   ]
  },
  {
   "cell_type": "code",
   "execution_count": null,
   "id": "694bb3d4",
   "metadata": {},
   "outputs": [],
   "source": [
    "# Plotting Experience Level by Workout Type\n",
    "plt.figure(figsize=(12, 6))\n",
    "sns.countplot(x='Workout Type', hue='Experience Level', data=df1)\n",
    "plt.title(\"Experience Level Distribution by Workout Type\", fontsize=16, fontweight='bold')\n",
    "plt.xlabel(\"Workout Type\")\n",
    "plt.ylabel(\"Count\")\n",
    "plt.xticks(rotation=45)\n",
    "plt.tight_layout()\n",
    "plt.show()"
   ]
  },
  {
   "cell_type": "markdown",
   "id": "20bb1a27",
   "metadata": {},
   "source": [
    "###  Average BPM by Workout Frequency"
   ]
  },
  {
   "cell_type": "code",
   "execution_count": null,
   "id": "1eb094c5",
   "metadata": {},
   "outputs": [],
   "source": [
    "# Calculate Average BPM by Workout Frequency\n",
    "bpm_by_workout = df1.groupby('Workout_Frequency (days/week)')[['Max_BPM', 'Avg_BPM', 'Resting_BPM']].mean()\n",
    "# Plotting the Average BPM for each workout frequency\n",
    "bpm_by_workout.plot(kind='bar', figsize=(12, 6), color=['lightblue', 'lightgreen', 'lightcoral'])\n",
    "plt.title(\"Average BPM by Workout Frequency\")\n",
    "plt.xlabel(\"Workout Frequency (Days/Week)\")\n",
    "plt.ylabel(\"BPM\")\n",
    "plt.xticks(rotation=0)\n",
    "plt.tight_layout()\n",
    "plt.show()"
   ]
  },
  {
   "cell_type": "markdown",
   "id": "bc3596d8",
   "metadata": {},
   "source": [
    "### Categorical Distributions by Group\n",
    "1. Gender Distribution by Workout Type\n",
    "2. Workout Type Distribution by Experience Level\n",
    "3. Gender Distribution by Experience Level\n",
    "\n",
    "These plots help in understanding the relationships between categorical variables, such as gender, workout type, and experience level, and provide insights into the demographic distribution of gym members."
   ]
  },
  {
   "cell_type": "code",
   "execution_count": null,
   "id": "6bf51683",
   "metadata": {},
   "outputs": [],
   "source": [
    "plt.figure(figsize=(6,6))\n",
    "sns.countplot(x = 'Gender',hue = 'Workout Type', data= df1)\n",
    "plt.show()\n",
    "plt.figure(figsize=(6,6))\n",
    "sns.countplot(x = 'Workout Type',hue = 'Experience Level', data = df1)\n",
    "plt.show()\n",
    "plt.figure(figsize=(6,6))\n",
    "sns.countplot(x = 'Gender',hue = 'Experience Level', data = df1)\n",
    "plt.show()"
   ]
  },
  {
   "cell_type": "markdown",
   "id": "6c0201a1",
   "metadata": {},
   "source": [
    "### Scatter Plot Visualizations for Relationships Between Variables"
   ]
  },
  {
   "cell_type": "code",
   "execution_count": null,
   "id": "cc1eb54c",
   "metadata": {},
   "outputs": [],
   "source": [
    "# Scatter Plot: BMI vs. Weight\n",
    "plt.figure(figsize=(10, 6))\n",
    "plt.scatter(df1[\"Weight (kg)\"], df1[\"BMI\"], alpha=0.5)\n",
    "plt.title(\"BMI vs. Weight\")\n",
    "plt.xlabel(\"Weight (kg)\")\n",
    "plt.ylabel(\"BMI\")\n",
    "plt.grid(True)\n",
    "plt.show()\n",
    "\n",
    "# Scatter Plot: Calories Burned vs. Session Duration\n",
    "plt.figure(figsize=(10, 6))\n",
    "plt.scatter(df1[\"Session_Duration (hours)\"], df1[\"Calories Burned\"], alpha=0.5, color='orange')\n",
    "plt.title(\"Calories Burned vs. Session Duration\")\n",
    "plt.xlabel(\"Session Duration (hours)\")\n",
    "plt.ylabel(\"Calories Burned\")\n",
    "plt.grid(True)\n",
    "plt.show()"
   ]
  },
  {
   "cell_type": "markdown",
   "id": "5343318e",
   "metadata": {},
   "source": [
    "### Scatter Plot: BMI vs. Weight by Gender"
   ]
  },
  {
   "cell_type": "code",
   "execution_count": null,
   "id": "13423c96",
   "metadata": {},
   "outputs": [],
   "source": [
    "sns.set(style=\"whitegrid\")\n",
    "\n",
    "plt.figure(figsize=(12, 5))\n",
    "sns.scatterplot(data=df1, x='Weight (kg)', y='BMI', hue='Gender', palette='Set1')\n",
    "\n",
    "plt.title('BMI vs. Weight by Gender')\n",
    "plt.xlabel('Weight (kg)')\n",
    "plt.ylabel('BMI')\n",
    "plt.legend(title='Gender')\n",
    "plt.show()"
   ]
  },
  {
   "cell_type": "markdown",
   "id": "0fc24ca4",
   "metadata": {},
   "source": [
    "### Scatter Plot: BMI vs. Calories Burned by Gender"
   ]
  },
  {
   "cell_type": "code",
   "execution_count": null,
   "id": "b0772136",
   "metadata": {},
   "outputs": [],
   "source": [
    "sns.set(style=\"whitegrid\")\n",
    "\n",
    "plt.figure(figsize=(12, 5))\n",
    "sns.scatterplot(data=df1, x='Calories Burned', y='BMI', hue='Gender', palette='Set1')\n",
    "\n",
    "plt.title('BMI vs. Calories Burned by Gender')\n",
    "plt.xlabel('Calories Burned')\n",
    "plt.ylabel('BMI')\n",
    "plt.legend(title='Gender')\n",
    "plt.show()"
   ]
  },
  {
   "cell_type": "markdown",
   "id": "c8e6fb63",
   "metadata": {},
   "source": [
    "### Scatter Plot: BMI vs Fat Percentage"
   ]
  },
  {
   "cell_type": "code",
   "execution_count": null,
   "id": "7a39bc9e",
   "metadata": {},
   "outputs": [],
   "source": [
    "plt.figure(figsize=(10, 6))\n",
    "sns.scatterplot(x='BMI', y='Fat Percentage', data=df1, alpha=0.7)\n",
    "plt.title(\"BMI vs Fat Percentage\")\n",
    "plt.xlabel(\"BMI\")\n",
    "plt.ylabel(\"Fat Percentage (%)\")\n",
    "plt.grid(True)\n",
    "plt.show()"
   ]
  },
  {
   "cell_type": "markdown",
   "id": "7627565c",
   "metadata": {},
   "source": [
    "### Scatter Plot: Calories Burned per Hour vs. Session Duration by Workout Type"
   ]
  },
  {
   "cell_type": "code",
   "execution_count": null,
   "id": "8af58331",
   "metadata": {},
   "outputs": [],
   "source": [
    "# Check how session duration and frequency impact calories burned\n",
    "df1['Calories per Hour'] = df1['Calories Burned'] / df1['Session_Duration (hours)']\n",
    "plt.figure(figsize=(10, 6))\n",
    "sns.scatterplot(x='Session_Duration (hours)', y='Calories per Hour', data=df1, hue='Workout Type')\n",
    "plt.title(\"Calories Burned per Hour vs. Session Duration\")\n",
    "plt.xlabel(\"Session Duration (hours)\")\n",
    "plt.ylabel(\"Calories Burned per Hour\")\n",
    "plt.show()"
   ]
  },
  {
   "cell_type": "code",
   "execution_count": null,
   "id": "b4a5686f",
   "metadata": {},
   "outputs": [],
   "source": [
    "# Check calories burned by Experience Level\n",
    "experience_calories = df.groupby('Experience Level')['Calories Burned'].mean()\n",
    "print(\"Average Calories Burned by Experience Level:\")\n",
    "print(experience_calories)"
   ]
  },
  {
   "cell_type": "markdown",
   "id": "b5728791",
   "metadata": {},
   "source": [
    "### Summary of Key Insights\n",
    "Based on the analysis of the gym members' exercise data:\n",
    "1. Exercise Preferences:\n",
    "Gender Differences: There is a notable distinction in workout preferences based on gender. Males generally prefer strength training, while females are more inclined towards cardio-based exercises.\n",
    "2. Age and Fitness Correlations:\n",
    "Younger Members Burn More Calories: Age has a moderate correlation with both calories burned and workout duration. Younger members tend to have higher metabolism rates, leading to greater calorie expenditure and longer, more intense workouts. In contrast, older members tend to have shorter, less intense sessions, which may be attributed to fitness levels or joint concerns.\n",
    "3. BMI and Calories Burned:\n",
    "Higher BMI Leads to Lower Caloric Burn: A negative correlation exists between BMI and calories burned. Members with higher BMI often burn fewer calories, indicating that personalized workout routines for individuals with higher body fat percentages may be necessary to help them achieve higher caloric expenditure and improve their fitness outcomes.\n",
    "4. Workout Duration and Effectiveness:\n",
    "Workout Duration Doesn't Always Equal Better Results: Longer workout sessions don’t always lead to better fitness outcomes. While the duration does impact total calories burned, the type of exercise performed plays a more significant role in fitness improvement. For example, strength training, despite being performed for shorter durations, may result in higher fitness benefits compared to longer cardio sessions.\n",
    "5. Experience Level’s Impact on Performance:\n",
    "Experienced Members Achieve Better Results: More experienced gym members tend to perform better in terms of calories burned and workout intensity. This is likely due to the effectiveness of their routines and higher fitness levels. However, beginners, while they may not burn as many calories or work out with as high intensity, show notable progress as they increase both their workout duration and calories burned over time."
   ]
  },
  {
   "cell_type": "markdown",
   "id": "fcb646d3",
   "metadata": {},
   "source": [
    "### Now we can train the models, move on to the next notebook: models.ipynb"
   ]
  },
  {
   "cell_type": "code",
   "execution_count": null,
   "id": "d29af02a",
   "metadata": {},
   "outputs": [],
   "source": [
    "# Demonstrate before-and-after missing value imputation\n",
    "print('Before Imputation:')\n",
    "print(df['Fat Percentage'].isnull().sum())\n\n",
    "# Imputation\n",
    "df['Fat Percentage'].fillna(df['Fat Percentage'].mean(), inplace=True)\n\n",
    "print('After Imputation:')\n",
    "print(df['Fat Percentage'].isnull().sum())"
   ]
  },
  {
   "cell_type": "code",
   "execution_count": null,
   "id": "3c1687bf",
   "metadata": {},
   "outputs": [],
   "source": [
    "# Correlation heatmap\n",
    "plt.figure(figsize=(10, 6))\n",
    "sns.heatmap(df.corr(), annot=True, fmt='.2f', cmap='coolwarm')\n",
    "plt.title('Feature Correlation')\n",
    "plt.show()"
   ]
  },
  {
   "cell_type": "markdown",
   "id": "63e5c8e7",
   "metadata": {},
   "source": [
    "## Conclusion\n\nThe dataset has been cleaned and is ready for analysis. Key actions included:\n\n- Renaming columns for consistency.\n- Handling missing values in 'Fat Percentage' and 'Water Intake' using mean imputation.\n- Performing basic exploratory analysis.\n\nThis dataset will now be used in the modeling phase to predict gym members' exercise outcomes."
   ]
  },
  {
   "cell_type": "code",
   "execution_count": null,
   "id": "3c9b75a3",
   "metadata": {},
   "outputs": [],
   "source": [
    "# Demonstrate before-and-after missing value imputation\n",
    "print('Before Imputation:')\n",
    "print(df['Fat Percentage'].isnull().sum())\n",
    "\n",
    "# Imputation\n",
    "df['Fat Percentage'].fillna(df['Fat Percentage'].mean(), inplace=True)\n",
    "\n",
    "print('After Imputation:')\n",
    "print(df['Fat Percentage'].isnull().sum())"
   ]
  },
  {
   "cell_type": "code",
   "execution_count": null,
   "id": "233865f2",
   "metadata": {},
   "outputs": [],
   "source": [
    "# Correlation heatmap\n",
    "plt.figure(figsize=(10, 6))\n",
    "sns.heatmap(df.corr(), annot=True, fmt='.2f', cmap='coolwarm')\n",
    "plt.title('Feature Correlation')\n",
    "plt.show()"
   ]
  },
  {
   "cell_type": "markdown",
   "id": "142f5890",
   "metadata": {},
   "source": [
    "## Conclusion\n",
    "\n",
    "The dataset has been cleaned and is ready for analysis. Key actions included:\n",
    "\n",
    "- Renaming columns for consistency.\n",
    "- Handling missing values in 'Fat Percentage' and 'Water Intake' using mean imputation.\n",
    "- Performing basic exploratory analysis.\n",
    "\n",
    "This dataset will now be used in the modeling phase to predict gym members' exercise outcomes."
   ]
  }
 ],
 "metadata": {
  "colab": {
   "provenance": [],
   "toc_visible": true
  },
  "kernelspec": {
   "display_name": "Python 3 (ipykernel)",
   "language": "python",
   "name": "python3"
  },
  "language_info": {
   "codemirror_mode": {
    "name": "ipython",
    "version": 3
   },
   "file_extension": ".py",
   "mimetype": "text/x-python",
   "name": "python",
   "nbconvert_exporter": "python",
   "pygments_lexer": "ipython3",
   "version": "3.12.4"
  }
 },
 "nbformat": 4,
 "nbformat_minor": 5
}
